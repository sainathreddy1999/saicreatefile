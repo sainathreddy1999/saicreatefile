{
  "nbformat": 4,
  "nbformat_minor": 0,
  "metadata": {
    "kernelspec": {
      "display_name": "Python 3",
      "language": "python",
      "name": "python3"
    },
    "language_info": {
      "codemirror_mode": {
        "name": "ipython",
        "version": 3
      },
      "file_extension": ".py",
      "mimetype": "text/x-python",
      "name": "python",
      "nbconvert_exporter": "python",
      "pygments_lexer": "ipython3",
      "version": "3.8.2"
    },
    "colab": {
      "name": "simple-linear-regression.ipynb",
      "provenance": [],
      "include_colab_link": true
    }
  },
  "cells": [
    {
      "cell_type": "markdown",
      "metadata": {
        "id": "view-in-github",
        "colab_type": "text"
      },
      "source": [
        "<a href=\"https://colab.research.google.com/github/sainathreddy1999/saicreatefile/blob/master/simple_linear_regression.ipynb\" target=\"_parent\"><img src=\"https://colab.research.google.com/assets/colab-badge.svg\" alt=\"Open In Colab\"/></a>"
      ]
    },
    {
      "cell_type": "markdown",
      "metadata": {
        "id": "YaedconLjA0v",
        "colab_type": "text"
      },
      "source": [
        "# Linear Regression\n",
        "In this demo, let's try to code the simple problem of linear regression on this dataset: https://www.kaggle.com/rohankayan/years-of-experience-and-salary-dataset. It has two columns, years of experience and salary. Our task is to predict the salary (Y) given the years of experience (X). \n",
        "We will do this using sklearn. Sklearn is a machine learning library that has python packages for several machine learning tasks. We will progressively see how to use this library as we go along the course. \n",
        "The most important thing to remember is that the library documentation https://scikit-learn.org/stable/ is the best resource you can turn to, to learn. Let's begin!\n",
        "\n",
        "### 1. Importing required libraries "
      ]
    },
    {
      "cell_type": "code",
      "metadata": {
        "id": "uhR7zhpSjA01",
        "colab_type": "code",
        "colab": {}
      },
      "source": [
        "import math\n",
        "import numpy as np\n",
        "import matplotlib.pyplot as plt \n",
        "import pandas as pd\n",
        "from sklearn.model_selection import train_test_split\n",
        "from sklearn import metrics \n",
        "from sklearn import linear_model \n",
        "from sklearn.preprocessing import MinMaxScaler"
      ],
      "execution_count": 0,
      "outputs": []
    },
    {
      "cell_type": "markdown",
      "metadata": {
        "id": "MC36O_jBjA1Q",
        "colab_type": "text"
      },
      "source": [
        "### 2. Loading the dataset "
      ]
    },
    {
      "cell_type": "code",
      "metadata": {
        "id": "eQX4gRVRjA1R",
        "colab_type": "code",
        "colab": {},
        "outputId": "71a77677-86fc-4cc0-aae7-05cb07cc754b"
      },
      "source": [
        "data = pd.read_csv('Salary_Data.csv')\n",
        "print(data.head())\n",
        "scaler = MinMaxScaler() # we scale the dataset because the magnitude of values in both columns differ a lot \n",
        "data[data.columns] = scaler.fit_transform(data[data.columns])\n",
        "print(data.head())"
      ],
      "execution_count": 0,
      "outputs": [
        {
          "output_type": "stream",
          "text": [
            "   YearsExperience   Salary\n",
            "0              1.1  39343.0\n",
            "1              1.3  46205.0\n",
            "2              1.5  37731.0\n",
            "3              2.0  43525.0\n",
            "4              2.2  39891.0\n",
            "   YearsExperience    Salary\n",
            "0         0.000000  0.019041\n",
            "1         0.021277  0.100094\n",
            "2         0.042553  0.000000\n",
            "3         0.095745  0.068438\n",
            "4         0.117021  0.025514\n"
          ],
          "name": "stdout"
        }
      ]
    },
    {
      "cell_type": "code",
      "metadata": {
        "id": "kzoj5aeujA1n",
        "colab_type": "code",
        "colab": {}
      },
      "source": [
        "x = data['YearsExperience']\n",
        "y = data['Salary']\n",
        "# split into test and training set \n",
        "x_train, x_test, y_train , y_test = train_test_split(x,y,test_size=0.2,random_state=24)"
      ],
      "execution_count": 0,
      "outputs": []
    },
    {
      "cell_type": "markdown",
      "metadata": {
        "id": "NvXBOQMsjA1u",
        "colab_type": "text"
      },
      "source": [
        "### 3. Visualization of data "
      ]
    },
    {
      "cell_type": "code",
      "metadata": {
        "id": "tmh17pqtjA1w",
        "colab_type": "code",
        "colab": {},
        "outputId": "6b71e92a-c4df-47cf-afa2-3cdc2a8a378f"
      },
      "source": [
        "plt.scatter(x,y,color='blue')"
      ],
      "execution_count": 0,
      "outputs": [
        {
          "output_type": "execute_result",
          "data": {
            "text/plain": [
              "<matplotlib.collections.PathCollection at 0x7fdf42177940>"
            ]
          },
          "metadata": {
            "tags": []
          },
          "execution_count": 12
        },
        {
          "output_type": "display_data",
          "data": {
            "image/png": "[encoded data removed]",
            "text/plain": [
              "<Figure size 432x288 with 1 Axes>"
            ]
          },
          "metadata": {
            "tags": [],
            "needs_background": "light"
          }
        }
      ]
    },
    {
      "cell_type": "markdown",
      "metadata": {
        "id": "mKe2vqkjjA4U",
        "colab_type": "text"
      },
      "source": [
        "### 4. Building the linear regression model "
      ]
    },
    {
      "cell_type": "code",
      "metadata": {
        "id": "QxMKLYtnjA4V",
        "colab_type": "code",
        "colab": {},
        "outputId": "6e30d4a1-8ec4-4614-c2a4-c07df1d69a9b"
      },
      "source": [
        "reg = linear_model.LinearRegression(normalize=True)\n",
        "x_train = np.asarray(x_train)\n",
        "x_train = x_train.reshape(-1,1)\n",
        "res = reg.fit(x_train,y_train)\n",
        "print('Predicted Coefficient Value: ', reg.coef_)\n",
        "print('Predicted Intercept Value: ', reg.intercept_)"
      ],
      "execution_count": 0,
      "outputs": [
        {
          "output_type": "stream",
          "text": [
            "Predicted Coefficient Value:  [1.0698821]\n",
            "Predicted Intercept Value:  -0.030257125307575683\n"
          ],
          "name": "stdout"
        }
      ]
    },
    {
      "cell_type": "markdown",
      "metadata": {
        "id": "sCq3EIjbjA5X",
        "colab_type": "text"
      },
      "source": [
        "### 5. Visualizing the resultant model - a line in this case |"
      ]
    },
    {
      "cell_type": "code",
      "metadata": {
        "id": "UTxWbb4mjA5Y",
        "colab_type": "code",
        "colab": {},
        "outputId": "196e38bb-b081-47c9-ddc6-69c4cf03b3eb"
      },
      "source": [
        "%matplotlib inline\n",
        "x_lin = np.linspace(y.min()-1,y.max()+1)\n",
        "plt.scatter(x,y,c='b')\n",
        "plt.title('Prediction by ordinary least squares method')\n",
        "plt.xlabel('Experience')\n",
        "plt.ylabel('Salary')\n",
        "plt.plot(x_lin,(reg.intercept_+(reg.coef_*x_lin)),color='r',label='Predicted')\n",
        "plt.show()"
      ],
      "execution_count": 0,
      "outputs": [
        {
          "output_type": "display_data",
          "data": {
            "image/png": "[encoded data removed]",
            "text/plain": [
              "<Figure size 432x288 with 1 Axes>"
            ]
          },
          "metadata": {
            "tags": [],
            "needs_background": "light"
          }
        }
      ]
    },
    {
      "cell_type": "markdown",
      "metadata": {
        "id": "jqvpFdwzjA5e",
        "colab_type": "text"
      },
      "source": [
        "### 6. Making predictions for test set "
      ]
    },
    {
      "cell_type": "code",
      "metadata": {
        "id": "sej-9i2IjA5h",
        "colab_type": "code",
        "colab": {}
      },
      "source": [
        "y_pred = reg.predict(x_test.values.reshape(-1,1))"
      ],
      "execution_count": 0,
      "outputs": []
    },
    {
      "cell_type": "markdown",
      "metadata": {
        "id": "JUFpdLvOjA5l",
        "colab_type": "text"
      },
      "source": [
        "### 7. Evaluating the model with some measures "
      ]
    },
    {
      "cell_type": "code",
      "metadata": {
        "id": "S-pHwe5ojA51",
        "colab_type": "code",
        "colab": {},
        "outputId": "40efa099-d03e-4944-c935-d6a5778c6802"
      },
      "source": [
        "print(\"RMSE: \",math.sqrt(metrics.mean_squared_error(y_test,y_pred)))\n",
        "print(\"R^2: \",metrics.r2_score(y_test,y_pred))"
      ],
      "execution_count": 0,
      "outputs": [
        {
          "output_type": "stream",
          "text": [
            "RMSE:  5563.742150504675\n",
            "R^2:  0.9520702017424296\n"
          ],
          "name": "stdout"
        }
      ]
    }
  ]
}